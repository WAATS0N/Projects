{
 "cells": [
  {
   "cell_type": "code",
   "execution_count": 13,
   "id": "f8063341",
   "metadata": {},
   "outputs": [],
   "source": [
    "import cv2\n",
    "import numpy as np\n",
    "import os\n",
    "import argparse\n",
    "from PIL import Image\n",
    "import tensorflow as tf\n",
    "from tensorflow.keras import layers, losses\n",
    "from random import shuffle"
   ]
  },
  {
   "cell_type": "code",
   "execution_count": 14,
   "id": "5f046101",
   "metadata": {},
   "outputs": [
    {
     "ename": "error",
     "evalue": "OpenCV(4.9.0) D:\\a\\opencv-python\\opencv-python\\opencv\\modules\\highgui\\src\\window.cpp:1272: error: (-2:Unspecified error) The function is not implemented. Rebuild the library with Windows, GTK+ 2.x or Cocoa support. If you are on Ubuntu or Debian, install libgtk2.0-dev and pkg-config, then re-run cmake or configure script in function 'cvShowImage'\n",
     "output_type": "error",
     "traceback": [
      "\u001b[1;31m---------------------------------------------------------------------------\u001b[0m",
      "\u001b[1;31merror\u001b[0m                                     Traceback (most recent call last)",
      "Cell \u001b[1;32mIn[14], line 40\u001b[0m\n\u001b[0;32m     37\u001b[0m     cv2\u001b[38;5;241m.\u001b[39mdestroyAllWindows()\n\u001b[0;32m     38\u001b[0m     \u001b[38;5;28mprint\u001b[39m(\u001b[38;5;124mf\u001b[39m\u001b[38;5;124m\"\u001b[39m\u001b[38;5;124mCollecting samples for \u001b[39m\u001b[38;5;132;01m{\u001b[39;00mclass_name\u001b[38;5;132;01m}\u001b[39;00m\u001b[38;5;124m is completed !!!\u001b[39m\u001b[38;5;124m\"\u001b[39m)\n\u001b[1;32m---> 40\u001b[0m generate_dataset(class_name1)\n\u001b[0;32m     41\u001b[0m generate_dataset(class_name2)\n\u001b[0;32m     43\u001b[0m \u001b[38;5;28;01mdef\u001b[39;00m \u001b[38;5;21mload_data\u001b[39m(path):\n",
      "Cell \u001b[1;32mIn[14], line 32\u001b[0m, in \u001b[0;36mgenerate_dataset\u001b[1;34m(class_name)\u001b[0m\n\u001b[0;32m     30\u001b[0m cv2\u001b[38;5;241m.\u001b[39mimwrite(\u001b[38;5;124mf\u001b[39m\u001b[38;5;124m\"\u001b[39m\u001b[38;5;132;01m{\u001b[39;00mclass_name\u001b[38;5;132;01m}\u001b[39;00m\u001b[38;5;124m/img\u001b[39m\u001b[38;5;132;01m{\u001b[39;00mimg_id\u001b[38;5;132;01m}\u001b[39;00m\u001b[38;5;124m.jpg\u001b[39m\u001b[38;5;124m\"\u001b[39m, face)\n\u001b[0;32m     31\u001b[0m cv2\u001b[38;5;241m.\u001b[39mputText(face, \u001b[38;5;28mstr\u001b[39m(img_id), (\u001b[38;5;241m50\u001b[39m, \u001b[38;5;241m50\u001b[39m), cv2\u001b[38;5;241m.\u001b[39mFONT_HERSHEY_COMPLEX, \u001b[38;5;241m1\u001b[39m, (\u001b[38;5;241m0\u001b[39m, \u001b[38;5;241m255\u001b[39m, \u001b[38;5;241m0\u001b[39m), \u001b[38;5;241m2\u001b[39m)\n\u001b[1;32m---> 32\u001b[0m cv2\u001b[38;5;241m.\u001b[39mimshow(\u001b[38;5;124m\"\u001b[39m\u001b[38;5;124mCropped_Face\u001b[39m\u001b[38;5;124m\"\u001b[39m, face)\n\u001b[0;32m     33\u001b[0m \u001b[38;5;28;01mif\u001b[39;00m cv2\u001b[38;5;241m.\u001b[39mwaitKey(\u001b[38;5;241m1\u001b[39m) \u001b[38;5;241m&\u001b[39m \u001b[38;5;241m0xFF\u001b[39m \u001b[38;5;241m==\u001b[39m \u001b[38;5;28mord\u001b[39m(\u001b[38;5;124m'\u001b[39m\u001b[38;5;124mq\u001b[39m\u001b[38;5;124m'\u001b[39m):\n\u001b[0;32m     34\u001b[0m     \u001b[38;5;28;01mbreak\u001b[39;00m\n",
      "\u001b[1;31merror\u001b[0m: OpenCV(4.9.0) D:\\a\\opencv-python\\opencv-python\\opencv\\modules\\highgui\\src\\window.cpp:1272: error: (-2:Unspecified error) The function is not implemented. Rebuild the library with Windows, GTK+ 2.x or Cocoa support. If you are on Ubuntu or Debian, install libgtk2.0-dev and pkg-config, then re-run cmake or configure script in function 'cvShowImage'\n"
     ]
    }
   ],
   "source": [
    "\n",
    "class_name1 = \"person1\"\n",
    "class_name2 = \"person2\"\n",
    "n_samples = 40\n",
    "\n",
    "# Create directories for the classes\n",
    "os.makedirs(class_name1, exist_ok=True)\n",
    "os.makedirs(class_name2, exist_ok=True)\n",
    "\n",
    "def generate_dataset(class_name):\n",
    "    face_classifier = cv2.CascadeClassifier(\"haarcascade_frontalface_default.xml\")\n",
    "    \n",
    "    def face_cropped(img):\n",
    "        gray = cv2.cvtColor(img, cv2.COLOR_BGR2GRAY)\n",
    "        faces = face_classifier.detectMultiScale(gray, 1.3, 5)\n",
    "        if len(faces) == 0:\n",
    "            return None\n",
    "        for (x, y, w, h) in faces:\n",
    "            cropped_face = img[y:y+h, x:x+w]\n",
    "            return cropped_face\n",
    "\n",
    "    cap = cv2.VideoCapture(0)\n",
    "    img_id = 0\n",
    "\n",
    "    while img_id < n_samples:\n",
    "        ret, frame = cap.read()\n",
    "        if face_cropped(frame) is not None:\n",
    "            img_id += 1\n",
    "            face = cv2.resize(face_cropped(frame), (200, 200))\n",
    "            face = cv2.cvtColor(face, cv2.COLOR_BGR2GRAY)\n",
    "            cv2.imwrite(f\"{class_name}/img{img_id}.jpg\", face)\n",
    "            cv2.putText(face, str(img_id), (50, 50), cv2.FONT_HERSHEY_COMPLEX, 1, (0, 255, 0), 2)\n",
    "            cv2.imshow(\"Cropped_Face\", face)\n",
    "            if cv2.waitKey(1) & 0xFF == ord('q'):\n",
    "                break\n",
    "\n",
    "    cap.release()\n",
    "    cv2.destroyAllWindows()\n",
    "    print(f\"Collecting samples for {class_name} is completed !!!\")\n",
    "\n",
    "generate_dataset(class_name1)\n",
    "generate_dataset(class_name2)\n",
    "\n",
    "def load_data(path):\n",
    "    data = []\n",
    "    for imgs in os.listdir(path):\n",
    "        img = np.array(Image.open(f'{path}/{imgs}'))\n",
    "        data.append(img)\n",
    "    return data\n",
    "\n",
    "def process_data(c1, c2):\n",
    "    data = []\n",
    "    x = []\n",
    "    y = []\n",
    "    for img in c1:\n",
    "        data.append([img, [1, 0]])\n",
    "    for img in c2:\n",
    "        data.append([img, [0, 1]])\n",
    "    for d in data:\n",
    "        x.append(d[0])\n",
    "    for d in data:\n",
    "        y.append(d[1])\n",
    "    return np.array(x), np.array(y)\n",
    "\n",
    "def get_model(n_class):\n",
    "    model = tf.keras.Sequential([\n",
    "        tf.keras.Input((200, 200, 1)),\n",
    "        layers.Flatten(),\n",
    "        layers.Dense(1024, activation='relu'),\n",
    "        layers.Dense(512, activation='relu'),\n",
    "        layers.Dense(256, activation='relu'),\n",
    "        layers.Dense(128, activation='relu'),\n",
    "        layers.Dense(n_class, activation='softmax'),\n",
    "    ])\n",
    "    model.compile(loss='categorical_crossentropy',\n",
    "                  optimizer='adam',\n",
    "                  metrics=['accuracy'])\n",
    "    return model\n",
    "\n",
    "class1, class2 = load_data(class_name1), load_data(class_name2)\n",
    "\n",
    "x, y = process_data(class1, class2)\n",
    "\n",
    "# Normalize data\n",
    "x = x / 255.0\n",
    "x = x.reshape(x.shape[0], 200, 200, 1)\n",
    "\n",
    "model = get_model(n_class=2)\n",
    "\n",
    "model.fit(x, y, epochs=20)\n",
    "\n",
    "# Example prediction (needs an image path)\n",
    "# print(model.predict(np.array(Image.open('path_to_image').resize((200, 200)).convert('L')).reshape(1, 200, 200, 1))[0])\n"
   ]
  },
  {
   "cell_type": "code",
   "execution_count": 10,
   "id": "ca57a2c7",
   "metadata": {},
   "outputs": [
    {
     "name": "stdout",
     "output_type": "stream",
     "text": [
      "\u001b[1m1/1\u001b[0m \u001b[32m━━━━━━━━━━━━━━━━━━━━\u001b[0m\u001b[37m\u001b[0m \u001b[1m0s\u001b[0m 22ms/step\n",
      "[0. 1.]\n"
     ]
    }
   ],
   "source": [
    "print(model.predict(np.array(Image.open(\"X:\\workspace\\codespace\\person2\\img1.jpg\").resize((200, 200)).convert('L')).reshape(1, 200, 200, 1))[0])"
   ]
  },
  {
   "cell_type": "code",
   "execution_count": null,
   "id": "a415b164-8504-40d7-9632-52efd06ada6d",
   "metadata": {},
   "outputs": [],
   "source": []
  }
 ],
 "metadata": {
  "kernelspec": {
   "display_name": "Python 3 (ipykernel)",
   "language": "python",
   "name": "python3"
  },
  "language_info": {
   "codemirror_mode": {
    "name": "ipython",
    "version": 3
   },
   "file_extension": ".py",
   "mimetype": "text/x-python",
   "name": "python",
   "nbconvert_exporter": "python",
   "pygments_lexer": "ipython3",
   "version": "3.11.7"
  }
 },
 "nbformat": 4,
 "nbformat_minor": 5
}
